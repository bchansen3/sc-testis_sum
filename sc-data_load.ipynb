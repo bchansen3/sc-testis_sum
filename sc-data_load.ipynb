{
 "cells": [
  {
   "cell_type": "markdown",
   "metadata": {},
   "source": [
    "Download data for each Human study listed below:\n",
    "\n",
    "\n",
    "| Title | Year | Author | Species |  Data Link |\n",
    "|-------|------|--------|---------|------------|\n",
    "| [Single-cell analysis of the developing human testis reveals somatic niche cell specification and fetal germline stem cell establishment](https://doi.org/10.1016/j.stem.2020.12.004)| 2021 | Guo et al.  | Human | [embryonic/fetal](http://www.ncbi.nlm.nih.gov/geo/query/acc.cgi?acc=GSE143356) and [postnatal](http://www.ncbi.nlm.nih.gov/geo/query/acc.cgi?acc=GSE161617)|\n",
    "| [The adult human testis transcriptional cell atlas](https://www.nature.com/articles/s41422-018-0099-2) | 2018 | Guo et al. | Human | [infant/adult](http://www.ncbi.nlm.nih.gov/geo/query/acc.cgi?acc=GSE120508)|\n",
    "| [The Neonatal and Adult Human Testis Defined at the Single-Cell Level](https://doi.org/10.1016/j.celrep.2019.01.045) | 2019 | Sohni et al. | Human | [neonatal/adult](http://www.ncbi.nlm.nih.gov/geo/query/acc.cgi?acc=GSE124263) |\n",
    "\n",
    "\n",
    "To do so from the command line, first identify where you would like the data to be saved, then use the 'wget' command along with the ftp link to get the supplementary files. Use the -P option and specify a save location.\n",
    "\n",
    "We are using the 'tar' file from the supplementary files that includes the barcodes, genes and matrix.\n",
    "\n",
    "\n",
    "for example to get the tar for gse143356, use command below:\n",
    "\n",
    "wget -P /bigdata/faustmanlab/bch/sc-testis/human/gse143356 https://ftp.ncbi.nlm.nih.gov/geo/series/GSE143nnn/GSE143356/suppl/GSE143356_RAW.tar \n",
    "\n",
    "This file then needs to be extracted through $ tar -xvf <tar_archive>\n",
    "\n",
    "this can all be run at once by using a pipe ' | ' \n",
    "\n",
    "so... wget -P /bigdata/faustmanlab/bch/sc-testis/human/gse143356 https://ftp.ncbi.nlm.nih.gov/geo/series/GSE143nnn/GSE143356/suppl/GSE143356_RAW.tar | tar -xvf /bigdata/faustmanlab/bch/sc-testis/human/gse143356/GSE143356_RAW.tar\n",
    "gunzip /bigdata/faustmanlab/bch/sc-testis/human/gse143356/*.tar.gz\n",
    "\n",
    "https://ftp.ncbi.nlm.nih.gov/geo/series/GSE120nnn/GSE120506/matrix/GSE120506_series_matrix.txt.gz"
   ]
  },
  {
   "cell_type": "code",
   "execution_count": null,
   "metadata": {},
   "outputs": [],
   "source": []
  }
 ],
 "metadata": {
  "kernelspec": {
   "display_name": "R",
   "language": "R",
   "name": "ir"
  },
  "language_info": {
   "name": "R"
  },
  "orig_nbformat": 4
 },
 "nbformat": 4,
 "nbformat_minor": 2
}
