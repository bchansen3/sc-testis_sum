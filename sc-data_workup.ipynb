{
 "cells": [
  {
   "cell_type": "code",
   "execution_count": 1,
   "metadata": {},
   "outputs": [
    {
     "name": "stderr",
     "output_type": "stream",
     "text": [
      "Matplotlib is building the font cache; this may take a moment.\n"
     ]
    }
   ],
   "source": [
    "import numpy as np\n",
    "import pandas as pd\n",
    "import scanpy as scp\n",
    "\n",
    "# Plotting imports\n",
    "import matplotlib\n",
    "import seaborn as sns\n",
    "import matplotlib.pyplot as plt"
   ]
  },
  {
   "cell_type": "code",
   "execution_count": 2,
   "metadata": {},
   "outputs": [],
   "source": [
    "%matplotlib inline"
   ]
  },
  {
   "cell_type": "code",
   "execution_count": 14,
   "metadata": {},
   "outputs": [],
   "source": [
    "week6_ad = scp.read_10x_mtx(\"/bigdata/faustmanlab/bch/sc-testis/human/gse143356/week6\")\n",
    "week6_ad.var_names_make_unique()\n",
    "\n",
    "week7_ad = scp.read_10x_mtx(\"/bigdata/faustmanlab/bch/sc-testis/human/gse143356/week7\")\n",
    "week7_ad.var_names_make_unique()\n",
    "\n",
    "week8_ad = scp.read_10x_mtx(\"/bigdata/faustmanlab/bch/sc-testis/human/gse143356/week8\")\n",
    "week8_ad.var_names_make_unique()\n",
    "\n",
    "week15_ad = scp.read_10x_mtx(\"/bigdata/faustmanlab/bch/sc-testis/human/gse143356/week15\")\n",
    "week15_ad.var_names_make_unique()\n",
    "\n",
    "week16_ad = scp.read_10x_mtx(\"/bigdata/faustmanlab/bch/sc-testis/human/gse143356/week16\")\n",
    "week16_ad.var_names_make_unique()\n"
   ]
  },
  {
   "cell_type": "code",
   "execution_count": 15,
   "metadata": {},
   "outputs": [],
   "source": [
    "week12_ad = scp.read_10x_mtx(\"/bigdata/faustmanlab/bch/sc-testis/human/gse143356/week12/Male_Week_12_gene_matrix/\")\n",
    "week12_ad.var_names_make_unique()\n"
   ]
  }
 ],
 "metadata": {
  "interpreter": {
   "hash": "31f2aee4e71d21fbe5cf8b01ff0e069b9275f58929596ceb00d14d90e3e16cd6"
  },
  "kernelspec": {
   "display_name": "Python 3.8.10 64-bit",
   "language": "python",
   "name": "python3"
  },
  "language_info": {
   "codemirror_mode": {
    "name": "ipython",
    "version": 3
   },
   "file_extension": ".py",
   "mimetype": "text/x-python",
   "name": "python",
   "nbconvert_exporter": "python",
   "pygments_lexer": "ipython3",
   "version": "3.9.12"
  },
  "orig_nbformat": 4
 },
 "nbformat": 4,
 "nbformat_minor": 2
}
